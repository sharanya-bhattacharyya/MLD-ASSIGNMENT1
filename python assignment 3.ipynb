{
 "cells": [
  {
   "cell_type": "markdown",
   "metadata": {},
   "source": [
    "Question 1.1"
   ]
  },
  {
   "cell_type": "code",
   "execution_count": 2,
   "metadata": {},
   "outputs": [
    {
     "name": "stdout",
     "output_type": "stream",
     "text": [
      "45\n"
     ]
    }
   ],
   "source": [
    "#returning the sum\n",
    "def sum(a,b):\n",
    "    return a+b\n",
    "\n",
    "def myreduce(func,l):\n",
    "    total  = l[0]\n",
    "    for num in l[1:]:\n",
    "        total = func(total,num)\n",
    "    \n",
    "    return total\n",
    "\n",
    "l = range(10)\n",
    "print(myreduce(sum,l))"
   ]
  },
  {
   "cell_type": "markdown",
   "metadata": {},
   "source": [
    "question 1.2"
   ]
  },
  {
   "cell_type": "code",
   "execution_count": 5,
   "metadata": {},
   "outputs": [
    {
     "name": "stdout",
     "output_type": "stream",
     "text": [
      "[1, 2, 3, 4, 5, 6, 7, 8, 9]\n"
     ]
    }
   ],
   "source": [
    "#checking the number is positive or not\n",
    "def ispositive(num):\n",
    "    if num > 0:\n",
    "        return True\n",
    "    \n",
    "\n",
    "def myfilter(func,l):\n",
    "    lst = []\n",
    "    for num in l:\n",
    "        if func(num):\n",
    "            lst.append(num)\n",
    "\n",
    "    return lst\n",
    "l = list(range(-10,10))\n",
    "print(myfilter(ispositive,l))"
   ]
  },
  {
   "cell_type": "markdown",
   "metadata": {},
   "source": [
    "Question 2"
   ]
  },
  {
   "cell_type": "code",
   "execution_count": 6,
   "metadata": {},
   "outputs": [
    {
     "name": "stdout",
     "output_type": "stream",
     "text": [
      "['x', 'xx', 'xxx', 'xxxx', 'y', 'yy', 'yyy', 'yyyy', 'z', 'zz', 'zzz', 'zzzz']\n",
      "['x', 'y', 'z', 'xx', 'yy', 'zz', 'xxx', 'yyy', 'zzz', 'xxxx', 'yyyy', 'zzzz']\n",
      "[[2], [3], [4], [3], [4], [5], [4], [5], [6]]\n",
      "[[2, 3, 4, 5], [3, 4, 5, 6], [4, 5, 6, 7], [5, 6, 7, 8]]\n",
      "[(1, 1), (2, 1), (3, 1), (1, 2), (2, 2), (3, 2), (1, 3), (2, 3), (3, 3)]\n"
     ]
    }
   ],
   "source": [
    "\n",
    "l = ['x','y','z']\n",
    "o = []\n",
    "outer = range(1,3)\n",
    "inner = range(1,3)\n",
    "#1st pattern\n",
    "print([i*j for j in l for i in range(1,5)])\n",
    "\n",
    "\n",
    "#2nd pattern\n",
    "\n",
    "print([i*j for i in range(1,5) for j in l])\n",
    "\n",
    "#3rd pattern\n",
    "print([[i+j] for i in range(3) for j in range(2,5)])\n",
    "\n",
    "#4th pattern\n",
    "o = [2,3,4,5]\n",
    "print([list(map(lambda x:x+j,o))for j in range(4)])\n",
    "\n",
    "#5th pattern\n",
    "print([(j,i) for i in range(1,4) for j in range(1,4)])\n",
    "\n",
    "    "
   ]
  },
  {
   "cell_type": "code",
   "execution_count": null,
   "metadata": {},
   "outputs": [],
   "source": []
  }
 ],
 "metadata": {
  "kernelspec": {
   "display_name": "Python 3",
   "language": "python",
   "name": "python3"
  },
  "language_info": {
   "codemirror_mode": {
    "name": "ipython",
    "version": 3
   },
   "file_extension": ".py",
   "mimetype": "text/x-python",
   "name": "python",
   "nbconvert_exporter": "python",
   "pygments_lexer": "ipython3",
   "version": "3.7.1"
  }
 },
 "nbformat": 4,
 "nbformat_minor": 2
}
