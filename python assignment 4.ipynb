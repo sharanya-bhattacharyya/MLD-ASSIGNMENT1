{
 "cells": [
  {
   "cell_type": "markdown",
   "metadata": {},
   "source": [
    "Question1.1\n"
   ]
  },
  {
   "cell_type": "code",
   "execution_count": 5,
   "metadata": {},
   "outputs": [
    {
     "name": "stdout",
     "output_type": "stream",
     "text": [
      "Enter the value of the first side:4\n",
      "Enter the value of the second side:3\n",
      "Enter the value of the third side:5\n",
      "area: 6.0\n"
     ]
    }
   ],
   "source": [
    "#creating the class\n",
    "class Triangle():\n",
    "    def __init__(self,a,b,c):\n",
    "        self.a = a\n",
    "        self.b = b\n",
    "        self.c = c\n",
    "    \n",
    "class Trianglearea(Triangle):\n",
    "    def __init__(self,*args):\n",
    "        super(Trianglearea,self).__init__(*args)\n",
    "    def area(self):\n",
    "        self.s = (self.a + self.b + self.c)/2\n",
    "        return (self.s*(self.s-self.a)*(self.s-self.b)*(self.s-self.c)) ** 0.5\n",
    "    \n",
    "a = int(input(\"Enter the value of the first side:\"))\n",
    "b = int(input(\"Enter the value of the second side:\"))\n",
    "c = int(input(\"Enter the value of the third side:\"))\n",
    "#o = Triangle(a,b,c)\n",
    "t = Trianglearea(a,b,c)\n",
    "print('area: {}'.format(t.area()))\n",
    "        "
   ]
  },
  {
   "cell_type": "markdown",
   "metadata": {},
   "source": [
    "question 1.2"
   ]
  },
  {
   "cell_type": "code",
   "execution_count": null,
   "metadata": {},
   "outputs": [],
   "source": [
    "def filter_long_words(l,n):\n",
    "    sumlist = []\n",
    "    for i in range(len(l)):\n",
    "        if len(l[i]) > n:\n",
    "            sumlist.append(l[i])\n",
    "    return sumlist\n",
    "\n",
    "a = input('please enter , separate list elements')\n",
    "n = int(input('enter the length to compare'))\n",
    "l = []\n",
    "l = a.split(',')\n",
    "print(filter_long_words(l,n))"
   ]
  },
  {
   "cell_type": "markdown",
   "metadata": {},
   "source": [
    "question 2.1"
   ]
  },
  {
   "cell_type": "code",
   "execution_count": 2,
   "metadata": {},
   "outputs": [
    {
     "name": "stdout",
     "output_type": "stream",
     "text": [
      "please enter , separate list elementsa,ab,abc\n",
      "[1, 2, 3]\n"
     ]
    }
   ],
   "source": [
    "def filter_long_words(l):\n",
    "    sumlist = []\n",
    "    for i in range(len(l)):\n",
    "        sumlist.append(len(l[i]))\n",
    "    return sumlist\n",
    "\n",
    "a = input('please enter , separate list elements')\n",
    "l = []\n",
    "l = a.split(',')\n",
    "print(filter_long_words(l))"
   ]
  },
  {
   "cell_type": "markdown",
   "metadata": {},
   "source": [
    "Question 2.2"
   ]
  },
  {
   "cell_type": "code",
   "execution_count": 5,
   "metadata": {},
   "outputs": [
    {
     "name": "stdout",
     "output_type": "stream",
     "text": [
      "enter the characterb\n",
      "False\n"
     ]
    }
   ],
   "source": [
    "def vowelchecker(s):\n",
    "    l = ['a','e','i','o','u']\n",
    "    if s.lower() in l:\n",
    "        return True\n",
    "    else:\n",
    "        return False\n",
    "    \n",
    "print(vowelchecker(input('enter the character: ')))"
   ]
  },
  {
   "cell_type": "code",
   "execution_count": null,
   "metadata": {},
   "outputs": [],
   "source": []
  },
  {
   "cell_type": "code",
   "execution_count": null,
   "metadata": {},
   "outputs": [],
   "source": []
  }
 ],
 "metadata": {
  "kernelspec": {
   "display_name": "Python 3",
   "language": "python",
   "name": "python3"
  },
  "language_info": {
   "codemirror_mode": {
    "name": "ipython",
    "version": 3
   },
   "file_extension": ".py",
   "mimetype": "text/x-python",
   "name": "python",
   "nbconvert_exporter": "python",
   "pygments_lexer": "ipython3",
   "version": "3.7.1"
  }
 },
 "nbformat": 4,
 "nbformat_minor": 2
}
