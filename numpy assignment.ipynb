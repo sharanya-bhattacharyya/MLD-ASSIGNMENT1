{
 "cells": [
  {
   "cell_type": "code",
   "execution_count": 1,
   "metadata": {},
   "outputs": [
    {
     "name": "stdout",
     "output_type": "stream",
     "text": [
      "[[ 1  1  1]\n",
      " [ 1  2  4]\n",
      " [ 1  3  9]\n",
      " [ 1  4 16]\n",
      " [ 1  5 25]]\n",
      "[[ 1  1  1]\n",
      " [ 4  2  1]\n",
      " [ 9  3  1]\n",
      " [16  4  1]\n",
      " [25  5  1]]\n"
     ]
    }
   ],
   "source": [
    "#question 1\n",
    "import numpy as np\n",
    "\n",
    "def matrix_generator(mat,n,increasing=False):\n",
    "    if not increasing:\n",
    "        final_matrix = np.array([x**(n-1-i) for x in mat for i in range(n)]).reshape(mat.size,n)\n",
    "    else:\n",
    "        final_matrix = np.array([x**i for x in mat for i in range(n)]).reshape(mat.size,n)\n",
    "        \n",
    "    return final_matrix\n",
    "\n",
    "matrix1 = np.array([1,2,3,4,5])\n",
    "degree = 3\n",
    "\n",
    "print(matrix_generator(matrix1,degree,True))\n",
    "print(matrix_generator(matrix1,degree,False))\n"
   ]
  },
  {
   "cell_type": "code",
   "execution_count": 9,
   "metadata": {},
   "outputs": [
    {
     "name": "stdout",
     "output_type": "stream",
     "text": [
      "[  5.           4.66666667   5.66666667   6.66666667   9.66666667\n",
      "  28.66666667  49.33333333  72.66666667  84.          93.33333333\n",
      " 116.33333333]\n"
     ]
    }
   ],
   "source": [
    "#question 2\n",
    "def average(a,n):\n",
    "    x = np.cumsum(a,dtype=float)\n",
    "    x[n:] = x[n:] - x[:-n]\n",
    "    return x[n-1:] / n\n",
    "\n",
    "a = [3, 5, 7, 2, 8, 10, 11, 65, 72, 81, 99, 100, 150]\n",
    "n=3\n",
    "print(average(a, n))"
   ]
  },
  {
   "cell_type": "code",
   "execution_count": null,
   "metadata": {},
   "outputs": [],
   "source": []
  }
 ],
 "metadata": {
  "kernelspec": {
   "display_name": "Python 3",
   "language": "python",
   "name": "python3"
  },
  "language_info": {
   "codemirror_mode": {
    "name": "ipython",
    "version": 3
   },
   "file_extension": ".py",
   "mimetype": "text/x-python",
   "name": "python",
   "nbconvert_exporter": "python",
   "pygments_lexer": "ipython3",
   "version": "3.7.7"
  }
 },
 "nbformat": 4,
 "nbformat_minor": 4
}
